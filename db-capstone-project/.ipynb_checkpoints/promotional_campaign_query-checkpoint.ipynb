{
 "cells": [
  {
   "cell_type": "code",
   "execution_count": 1,
   "id": "84f55751-ade9-4e11-8d5b-65c814f85005",
   "metadata": {},
   "outputs": [],
   "source": [
    "import mysql.connector as connector"
   ]
  },
  {
   "cell_type": "code",
   "execution_count": 3,
   "id": "400cec6b-0288-46d7-96c4-9b21266e301e",
   "metadata": {},
   "outputs": [],
   "source": [
    "connection = connector.connect(user = \"root\", password = \"Benten123*\",db =\"little_lemon_db\")"
   ]
  },
  {
   "cell_type": "code",
   "execution_count": 4,
   "id": "4ebbb817-3301-4b2f-aeea-24046d0cdd56",
   "metadata": {},
   "outputs": [],
   "source": [
    "cursor = connection.cursor()"
   ]
  },
  {
   "cell_type": "code",
   "execution_count": 5,
   "id": "b15cdc20-b524-4efd-8533-4f4a38158620",
   "metadata": {},
   "outputs": [
    {
     "name": "stdout",
     "output_type": "stream",
     "text": [
      "('bookings',)\n",
      "('customers',)\n",
      "('deliverystatus',)\n",
      "('menu',)\n",
      "('menuitems',)\n",
      "('orders',)\n",
      "('ordersview',)\n",
      "('staff',)\n"
     ]
    }
   ],
   "source": [
    "#Define the SQL query to show tables\n",
    "show_tables_query = \"SHOW TABLES\"\n",
    "#Execute the query\n",
    "cursor.execute(show_tables_query)\n",
    "# Fetch the results and print them\n",
    "tables = cursor.fetchall()\n",
    "for table in tables:\n",
    "    print(table)"
   ]
  },
  {
   "cell_type": "code",
   "execution_count": 6,
   "id": "f2173dbe-a66d-43ce-bfde-d36f961e6f14",
   "metadata": {},
   "outputs": [],
   "source": [
    "promotional_campaign_query =\"\"\"\n",
    "select customers.CustomerID, customers.CustomerName,customers.ContactNumber \n",
    "from customers inner join orders on customers.CustomerID = orders.CustomerID\n",
    "where TotalCost > 60;\n",
    "\"\"\""
   ]
  },
  {
   "cell_type": "code",
   "execution_count": 7,
   "id": "f655885b-d1e6-48a5-aeba-8567b19e64a7",
   "metadata": {},
   "outputs": [],
   "source": [
    "cursor.execute(promotional_campaign_query)"
   ]
  },
  {
   "cell_type": "code",
   "execution_count": 8,
   "id": "b2888277-de29-4382-8523-985f1a47b9b9",
   "metadata": {},
   "outputs": [
    {
     "name": "stdout",
     "output_type": "stream",
     "text": [
      "(6, 'Sophia Green', 1988776655)\n"
     ]
    }
   ],
   "source": [
    "results = cursor.fetchall()\n",
    "for row in results:\n",
    "    print(row)"
   ]
  },
  {
   "cell_type": "code",
   "execution_count": 9,
   "id": "0313f66c-3804-4254-bfac-3d67e796f4ee",
   "metadata": {},
   "outputs": [],
   "source": [
    "cursor.close()\n",
    "connection.close()"
   ]
  },
  {
   "cell_type": "code",
   "execution_count": null,
   "id": "df525278-4d7f-47be-8da5-4dd745c3b5e6",
   "metadata": {},
   "outputs": [],
   "source": []
  }
 ],
 "metadata": {
  "kernelspec": {
   "display_name": "Python 3 (ipykernel)",
   "language": "python",
   "name": "python3"
  },
  "language_info": {
   "codemirror_mode": {
    "name": "ipython",
    "version": 3
   },
   "file_extension": ".py",
   "mimetype": "text/x-python",
   "name": "python",
   "nbconvert_exporter": "python",
   "pygments_lexer": "ipython3",
   "version": "3.9.7"
  }
 },
 "nbformat": 4,
 "nbformat_minor": 5
}
